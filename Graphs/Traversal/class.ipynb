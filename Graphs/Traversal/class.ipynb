{
 "cells": [
  {
   "cell_type": "code",
   "execution_count": 53,
   "id": "c08c202e",
   "metadata": {},
   "outputs": [],
   "source": [
    "G = {\n",
    "    's':{'t': 10, 'y': 5},\n",
    "    't':{'x': 1, 'y': 2},\n",
    "    'x':{'z': 4},\n",
    "    'y':{'t': 3, 'z': 2, 'x': 9},\n",
    "    'z':{'x': 6, 's': 7}\n",
    "}"
   ]
  },
  {
   "cell_type": "code",
   "execution_count": 54,
   "id": "f154c8c8",
   "metadata": {},
   "outputs": [],
   "source": [
    "import math\n",
    "\n",
    "def init_single_source(G, s):\n",
    "    cost = dict()\n",
    "    prev = dict()\n",
    "\n",
    "    for vertex in G.keys():\n",
    "        cost[vertex] = math.inf\n",
    "        prev[vertex] = \" \"\n",
    "\n",
    "    cost[s] = 0\n",
    "    return cost, prev\n"
   ]
  },
  {
   "cell_type": "code",
   "execution_count": 55,
   "id": "8f10f3d9",
   "metadata": {},
   "outputs": [],
   "source": [
    "def relax(graph, source, dest, cost, prev):\n",
    "    if (cost[dest] > (cost[source] + graph[source][dest])):\n",
    "        cost[dest] = cost[source] + graph[source][dest]\n",
    "        prev[dest] = source\n",
    "    return cost, prev"
   ]
  },
  {
   "cell_type": "code",
   "execution_count": 56,
   "id": "233064a3",
   "metadata": {},
   "outputs": [],
   "source": [
    "from queue import PriorityQueue\n",
    "def DJ(G, s):\n",
    "    cost, prev = init_single_source(G, s)\n",
    "\n",
    "    PQ = PriorityQueue()\n",
    "    for vertex in G.keys():\n",
    "        PQ.put((cost[vertex], vertex))\n",
    "\n",
    "    visited = []\n",
    "    while(len(visited) != len(G.keys())):\n",
    "        _, currentVertex = PQ.get()\n",
    "        visited.append(currentVertex)\n",
    "\n",
    "        for chimeki in G[currentVertex]:\n",
    "            if chimeki not in visited:\n",
    "                cost, prev = relax(G, currentVertex, chimeki, cost, prev)\n",
    "                PQ.put((cost[chimeki], chimeki))\n",
    "            \n",
    "    return cost, prev"
   ]
  },
  {
   "cell_type": "code",
   "execution_count": 57,
   "id": "513df78e",
   "metadata": {},
   "outputs": [
    {
     "name": "stdout",
     "output_type": "stream",
     "text": [
      "{'s': 0, 't': 8, 'x': 9, 'y': 5, 'z': 7}\n",
      "{'s': ' ', 't': 'y', 'x': 't', 'y': 's', 'z': 'y'}\n"
     ]
    }
   ],
   "source": [
    "cost, prev = DJ(G, 's')\n",
    "\n",
    "print(cost)\n",
    "print(prev)"
   ]
  },
  {
   "cell_type": "code",
   "execution_count": 60,
   "id": "f73a6e40",
   "metadata": {},
   "outputs": [
    {
     "name": "stdout",
     "output_type": "stream",
     "text": [
      "Shortest path from s to s is s\n",
      "Cost is 0\n",
      "Shortest path from s to t is s->y->t\n",
      "Cost is 8\n",
      "Shortest path from s to x is s->y->t->x\n",
      "Cost is 9\n",
      "Shortest path from s to y is s->y\n",
      "Cost is 5\n",
      "Shortest path from s to z is s->y->z\n",
      "Cost is 7\n"
     ]
    }
   ],
   "source": [
    "def reconstruct_path(graph, vertex, prev):\n",
    "    path = vertex\n",
    "    while prev[vertex] != \" \":\n",
    "        path = prev[vertex] + '->' + path\n",
    "        vertex = prev[vertex]\n",
    "    return path\n",
    "\n",
    "s = 's'\n",
    "cost, prev = DJ(G, s)\n",
    "\n",
    "for vertex in G.keys():\n",
    "    print(f\"Shortest path from {s} to {vertex} is {reconstruct_path(G, vertex, prev)}\")\n",
    "    print(f'Cost is {cost[vertex]}')"
   ]
  },
  {
   "cell_type": "code",
   "execution_count": null,
   "id": "9d4f41f7",
   "metadata": {},
   "outputs": [],
   "source": []
  }
 ],
 "metadata": {
  "kernelspec": {
   "display_name": "venv",
   "language": "python",
   "name": "python3"
  },
  "language_info": {
   "codemirror_mode": {
    "name": "ipython",
    "version": 3
   },
   "file_extension": ".py",
   "mimetype": "text/x-python",
   "name": "python",
   "nbconvert_exporter": "python",
   "pygments_lexer": "ipython3",
   "version": "3.13.5"
  }
 },
 "nbformat": 4,
 "nbformat_minor": 5
}
